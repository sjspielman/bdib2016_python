{
 "cells": [
  {
   "cell_type": "markdown",
   "metadata": {},
   "source": [
    "# Reading and writing files in Python\n",
    "\n",
    "To interact with files in Python, you must open the file and assign it to a special type of variable called a **file handle**. We can't directly interact with a file handle - instead, we must use the `.read()` method to interact with the file contents. After you've completed all operations on the file you want to do, the file handle must be closed. \n",
    "<br><br>\n",
    "Handles are defined (and thus files opened) with the `open()` function. This function takes two arguments: \n",
    "\n",
    "1. the *name* of the file to open\n",
    "2. the *mode* in which the file should be read. Modes, with usage examples, include, \n",
    "\n",
    "    + read-only (`\"r\"`). Use this mode to read a file, but not write anything to it.\n",
    "        + Usage: `handle = open(\"filename.txt\", \"r\")`\n",
    "        \n",
    "    + write-only (`\"w\"`). Use this mode to write to an empty file.\n",
    "        + Usage: `handle = open(\"filename.txt\", \"w\")`\n",
    "\n",
    "    + append (`\"a\"`).     Use this mode to add content to an existing file.\n",
    "        + Usage: `handle = open(\"filename.txt\", \"a\")`"
   ]
  },
  {
   "cell_type": "markdown",
   "metadata": {},
   "source": [
    "### Opening files for reading\n",
    "\n",
    "There are two basic ways to open and close files, shown below. Note that following two chunks of code are equivalent!"
   ]
  },
  {
   "cell_type": "code",
   "execution_count": 9,
   "metadata": {
    "collapsed": false
   },
   "outputs": [
    {
     "name": "stdout",
     "output_type": "stream",
     "text": [
      "Line 1 of the file.\n",
      "Line 2 of the file.\n",
      "Line 3 of the file.\n"
     ]
    }
   ],
   "source": [
    "# For convenience, save the name of the file we want to open to a variable\n",
    "filename = \"important_file_for_opening.txt\"\n",
    "\n",
    "# Open and close with open() and close()\n",
    "file_handle = open(filename, \"r\") # Open as read-only\n",
    "file_contents = file_handle.read() # Read contents of file. The file_contents variable is a string that holds the file contents\n",
    "file_handle.close() # Close file when finished (important!!)\n",
    "\n",
    "\n",
    "\n",
    "# Open with open(), using the *with* control flow construct\n",
    "# The file automatically closes outside the scope of the with - you can only interact with the file inside the with!\n",
    "with open(filename, \"r\") as file_handle:\n",
    "    file_contents = file_handle.read() # Again, the file_contents variable is a string that holds the file contents\n",
    "\n",
    "# Print out the contents of the file\n",
    "print(file_contents)"
   ]
  },
  {
   "cell_type": "markdown",
   "metadata": {},
   "source": [
    "You'll notice that the `.read()` method saved the *entire* body of a file to a single string. \n",
    "To loop over the file lines, simply loop over the file handle:"
   ]
  },
  {
   "cell_type": "code",
   "execution_count": 10,
   "metadata": {
    "collapsed": false
   },
   "outputs": [
    {
     "name": "stdout",
     "output_type": "stream",
     "text": [
      "Line 1 of the file.\n",
      "\n",
      "Line 2 of the file.\n",
      "\n",
      "Line 3 of the file.\n"
     ]
    }
   ],
   "source": [
    "file_handle = open(filename, \"r\") # Open as read-only\n",
    "for x in file_handle:\n",
    "    print(x)\n",
    "file_handle.close()"
   ]
  },
  {
   "cell_type": "markdown",
   "metadata": {},
   "source": [
    "There is also a method called `.readlines()`, which saves each line in the file to a list. This method is great for relatively small files, but becomes quite slow when files are very large (e.g. more than 1000 lines)."
   ]
  },
  {
   "cell_type": "code",
   "execution_count": 11,
   "metadata": {
    "collapsed": false
   },
   "outputs": [
    {
     "name": "stdout",
     "output_type": "stream",
     "text": [
      "['Line 1 of the file.\\n', 'Line 2 of the file.\\n', 'Line 3 of the file.']\n",
      "<class 'list'>\n",
      "3\n",
      "\n",
      "\n",
      "\n",
      "\n",
      "Line 1 of the file.\n",
      "\n",
      "Line 2 of the file.\n",
      "\n",
      "Line 3 of the file.\n"
     ]
    }
   ],
   "source": [
    "file_handle = open(filename, \"r\")\n",
    "lines = file_handle.readlines()\n",
    "file_handle.close()\n",
    "\n",
    "print(lines)\n",
    "print(type(lines)) # The type() function indicates the variable type (int, float, str, list, dict, etc.)\n",
    "print(len(lines))\n",
    "print(\"\\n\\n\\n\")   # Print some blank lines, for clarity\n",
    "for line in lines:\n",
    "    print(line)"
   ]
  },
  {
   "cell_type": "markdown",
   "metadata": {},
   "source": [
    "<br><br>\n",
    "\n",
    "### Opening files for writing\n",
    "Opening a file in write-mode will overwrite the file, but opening in append-mode will add to the bottom of an existing file. Note that if you open a file for writing (or appending), that file doesn't need to exist already, and a new file will be created with the specified name. Alternatively, if you attempt to open a file that does not exist for reading, you'll receive an error message."
   ]
  },
  {
   "cell_type": "markdown",
   "metadata": {},
   "source": [
    "To write to a file, you still need to open a handle, but now instead of using the `.read()` or `.readlines()` method, you will use the `.write()` method:"
   ]
  },
  {
   "cell_type": "code",
   "execution_count": 12,
   "metadata": {
    "collapsed": false
   },
   "outputs": [
    {
     "name": "stdout",
     "output_type": "stream",
     "text": [
      "I'm writing a sentence to this file!\n"
     ]
    }
   ],
   "source": [
    "# Open a file for writing, and write to it\n",
    "file_handle = open(\"file_to_fill.txt\", \"w\") # Open file for writing\n",
    "file_handle.write(\"I'm writing a sentence to this file!\")\n",
    "file_handle.close()\n",
    "\n",
    "# Use the *with* construct to open a file for writing\n",
    "with open(\"file_to_fill.txt\", \"w\") as file_handle:\n",
    "    file_handle.write(\"I'm writing a sentence to this file!\")\n",
    "\n",
    "# Verify that we wrote to the file correctly by opening and reading it\n",
    "with open(\"file_to_fill.txt\", \"r\") as file_handle: #note the \"r\" mode!\n",
    "    contents = file_handle.read()\n",
    "print(contents)"
   ]
  },
  {
   "cell_type": "markdown",
   "metadata": {},
   "source": [
    "You'll notice that \"I'm writing a sentence to this file!\" has only been outputted here *once*, even though we wrote to the file two times in the code chunk above. This is because write-only (\"w\") mode will *overwrite file contents* - if you open a file for writing and that file already existed with content in it, that content is now gone and replaced with what you've written!\n",
    "\n",
    "To add new contents to an existing file *without* overwriting the contents, open the file in append (\"a\") mode. Anything you write here will now be added to the bottom of the file:"
   ]
  },
  {
   "cell_type": "code",
   "execution_count": 13,
   "metadata": {
    "collapsed": false
   },
   "outputs": [
    {
     "name": "stdout",
     "output_type": "stream",
     "text": [
      "I'm writing a sentence to this file!\n",
      "I'm writing another line to this existing file!\n"
     ]
    }
   ],
   "source": [
    "# Open a file for appending, and append text to it\n",
    "file_handle = open(\"file_to_fill.txt\", \"a\")\n",
    "file_handle.write(\"\\nI'm writing another line to this existing file!\") # the \\n means \"new-line\" character (basically, pressing enter/return)\n",
    "file_handle.close()\n",
    "\n",
    "# Verify that we appended to the file correctly by opening and reading it\n",
    "with open(\"file_to_fill.txt\", \"r\") as file_handle:\n",
    "    contents = file_handle.read()\n",
    "print (contents)"
   ]
  }
 ],
 "metadata": {
  "kernelspec": {
   "display_name": "Python 3",
   "language": "python3",
   "name": "python3"
  },
  "language_info": {
   "codemirror_mode": {
    "name": "ipython",
    "version": 3
   },
   "file_extension": ".py",
   "mimetype": "text/x-python",
   "name": "python",
   "nbconvert_exporter": "python",
   "pygments_lexer": "ipython3",
   "version": "3.5.0"
  }
 },
 "nbformat": 4,
 "nbformat_minor": 0
}
